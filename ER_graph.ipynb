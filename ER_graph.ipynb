{
 "cells": [
  {
   "cell_type": "markdown",
   "metadata": {},
   "source": [
    "# Introduction\n",
    "\n",
    "Here I want to compute the n-cover times. For my taxi-trip process, as well as the random walk. For N = 1, i expect the random walk to win. I'm hoping that for n > 2, the taxi-trip will do better."
   ]
  },
  {
   "cell_type": "code",
   "execution_count": 1,
   "metadata": {},
   "outputs": [
    {
     "data": {
      "text/plain": [
       "<matplotlib.legend.Legend at 0x7f0a8784e150>"
      ]
     },
     "execution_count": 1,
     "metadata": {},
     "output_type": "execute_result"
    },
    {
     "data": {
      "image/png": "[encoded data removed]",
      "text/plain": [
       "<Figure size 432x288 with 1 Axes>"
      ]
     },
     "metadata": {},
     "output_type": "display_data"
    }
   ],
   "source": [
    "import numpy as np\n",
    "import matplotlib.pyplot as plt\n",
    "import funcs as f\n",
    "import osmnx as ox\n",
    "import networkx as nx\n",
    "from multiprocessing import Pool\n",
    "from datetime import datetime\n",
    "import time as time\n",
    "from scipy import optimize\n",
    "import pickle\n",
    "%matplotlib inline\n",
    "\n",
    "N,p = 100, 0.2\n",
    "G = nx.erdos_renyi_graph(N,p)\n",
    "G = [c for c in nx.connected_component_subgraphs(G)][0]\n",
    "\n",
    "num_trials, n = 1000, 1\n",
    "Ts_rw = f.random_walk_covertime(G,n,num_trials=num_trials)\n",
    "Ts_ue = f.urban_explorer_covertime(G,n,num_trials=num_trials)\n",
    "plt.hist(Ts_rw, alpha=0.75);plt.hist(Ts_ue,alpha=0.75);plt.legend(['Random walk','Urban explorer'])\n",
    "#np.savetxt('data/covertimes_ER_random_walker.txt',Ts_rw)\n",
    "#np.savetxt('data/covertimes_ER_urban_explorer.txt', Ts_ue)"
   ]
  },
  {
   "cell_type": "markdown",
   "metadata": {},
   "source": [
    "## Vary N"
   ]
  },
  {
   "cell_type": "code",
   "execution_count": 13,
   "metadata": {},
   "outputs": [
    {
     "name": "stdout",
     "output_type": "stream",
     "text": [
      "finished N = 5\n",
      "finished N = 15\n",
      "finished N = 25\n",
      "finished N = 35\n",
      "finished N = 45\n",
      "finished N = 55\n",
      "finished N = 65\n",
      "finished N = 75\n",
      "finished N = 85\n",
      "finished N = 95\n",
      "finished N = 105\n",
      "finished N = 115\n",
      "finished N = 125\n",
      "finished N = 135\n",
      "finished N = 145\n",
      "finished N = 155\n",
      "finished N = 165\n",
      "finished N = 175\n",
      "finished N = 185\n",
      "finished N = 195\n",
      "finished N = 205\n",
      "finished N = 215\n",
      "finished N = 225\n",
      "finished N = 235\n",
      "finished N = 245\n",
      "finished N = 255\n",
      "finished N = 265\n",
      "finished N = 275\n",
      "finished N = 285\n",
      "finished N = 295\n",
      "finished N = 305\n",
      "finished N = 315\n",
      "finished N = 325\n",
      "finished N = 335\n",
      "finished N = 345\n",
      "finished N = 355\n",
      "finished N = 365\n",
      "finished N = 375\n",
      "finished N = 385\n",
      "finished N = 395\n",
      "finished N = 405\n",
      "finished N = 415\n",
      "finished N = 425\n",
      "finished N = 435\n",
      "finished N = 445\n",
      "finished N = 455\n",
      "finished N = 465\n",
      "finished N = 475\n",
      "finished N = 485\n",
      "finished N = 495\n"
     ]
    },
    {
     "data": {
      "text/plain": [
       "<matplotlib.collections.LineCollection at 0x7f8c05b6fb90>"
      ]
     },
     "execution_count": 13,
     "metadata": {},
     "output_type": "execute_result"
    },
    {
     "data": {
      "image/png": "[encoded data removed]",
      "text/plain": [
       "<Figure size 432x288 with 1 Axes>"
      ]
     },
     "metadata": {},
     "output_type": "display_data"
    }
   ],
   "source": [
    "meanTratios = []\n",
    "Ns = range(5,500,10)\n",
    "m = 1\n",
    "\n",
    "for N in Ns:\n",
    "    num_trials = 1000\n",
    "\n",
    "    p = 0.4\n",
    "    G = nx.erdos_renyi_graph(N,p)\n",
    "    G = [c for c in nx.connected_component_subgraphs(G)][0]\n",
    "    \n",
    "    Ts_rw = f.random_walk_covertime(G,m,num_trials=num_trials)\n",
    "    Ts_ue = f.urban_explorer_covertime(G,m,num_trials=num_trials)\n",
    "    meanTratios.append(np.mean(Ts_ue)/np.mean(Ts_rw))\n",
    "    print 'finished N = ' + str(N)\n",
    "plt.plot(Ns,meanTratios,'ko-')\n",
    "plt.xlabel('N',fontsize=18)\n",
    "#plt.ylabel(' $ \\langle T \\rangle_{UE} / \\langle T \\rangle_{RW} $ ')\n",
    "plt.hlines(1,0,max(Ns),linestyles='dashed')"
   ]
  },
  {
   "cell_type": "markdown",
   "metadata": {},
   "source": [
    "Interesting: the urban explorer is better here too."
   ]
  },
  {
   "cell_type": "code",
   "execution_count": null,
   "metadata": {
    "collapsed": true
   },
   "outputs": [],
   "source": [
    "def func(N):\n",
    "    num_trials = 500\n",
    "\n",
    "    p, m = 0.5, 1\n",
    "    G = nx.erdos_renyi_graph(N,p)\n",
    "    G = [c for c in nx.connected_component_subgraphs(G)][0]\n",
    "    \n",
    "    Ts_rw = f.random_walk_covertime(G,m,num_trials=num_trials)\n",
    "    Ts_ue = f.urban_explorer_covertime(G,m,num_trials=num_trials)\n",
    "    return np.mean(Ts_ue)/np.mean(Ts_rw)\n",
    "\n",
    "\n",
    "from multiprocessing import Pool\n",
    "workers = Pool(4)\n",
    "\n",
    "Ns = [500,1000,2000,4000]\n",
    "ratios = workers.map(func,Ns)\n",
    "plt.plot(Ns,ratios)\n",
    "\n",
    "plt.plot(Ns,meanTratios,'ko-')\n",
    "plt.xlabel('N',fontsize=18)\n",
    "#plt.ylabel(' $ \\langle T \\rangle_{UE} / \\langle T \\rangle_{RW} $ ')\n",
    "plt.hlines(1,0,max(Ns),linestyles='dashed')"
   ]
  },
  {
   "cell_type": "markdown",
   "metadata": {},
   "source": [
    "Do for different $p$'s"
   ]
  },
  {
   "cell_type": "code",
   "execution_count": null,
   "metadata": {},
   "outputs": [
    {
     "name": "stdout",
     "output_type": "stream",
     "text": [
      "finished N = 500\n",
      "finished N = 1000\n"
     ]
    }
   ],
   "source": [
    "ps = [0.25,0.5,0.75]\n",
    "\n",
    "for p in ps:\n",
    "    meanTratios = []\n",
    "    Ns = [500,1000,2000]\n",
    "    m = 1\n",
    "\n",
    "    for N in Ns:\n",
    "        num_trials = 10\n",
    "        G = nx.erdos_renyi_graph(N,p)\n",
    "        G = [c for c in nx.connected_component_subgraphs(G)][0]\n",
    "        \n",
    "        Ts_rw = f.random_walk_covertime(G,m,num_trials=num_trials)\n",
    "        Ts_ue = f.urban_explorer_covertime(G,m,num_trials=num_trials)\n",
    "        meanTratios.append(np.mean(Ts_ue)/np.mean(Ts_rw))\n",
    "        print 'finished N = ' + str(N)\n",
    "    plt.plot(Ns,meanTratios,'o-')\n",
    "    np.savetxt('data/mean_cover_time_ratio_ER_p_' + str(p)+'.txt',meanTratios)\n",
    "    plt.xlabel('N',fontsize=18)\n",
    "    #plt.ylabel(' $ \\langle T \\rangle_{UE} / \\langle T \\rangle_{RW} $ ')\n",
    "    plt.hlines(1,0,max(Ns),linestyles='dashed')\n",
    "    \n",
    "np.savetxt('data/mean_covertime_ratio_ER_Ns.txt',Ns)\n",
    "plt.legend(['p = ' +str(i) for i in ps])\n",
    "#plt.savefig('figures/2dpar_plot_SF.png')"
   ]
  },
  {
   "cell_type": "code",
   "execution_count": null,
   "metadata": {
    "collapsed": true
   },
   "outputs": [],
   "source": []
  },
  {
   "cell_type": "markdown",
   "metadata": {},
   "source": [
    "### Two parameters phase diagram"
   ]
  },
  {
   "cell_type": "code",
   "execution_count": 66,
   "metadata": {},
   "outputs": [
    {
     "name": "stderr",
     "output_type": "stream",
     "text": [
      "/home/kokeeffe/anaconda2/lib/python2.7/site-packages/ipykernel_launcher.py:13: RuntimeWarning: invalid value encountered in double_scalars\n",
      "  del sys.path[0]\n"
     ]
    }
   ],
   "source": [
    "Ns = range(10,90,10)\n",
    "ps = [0.2,0.4,0.6,0.8]\n",
    "m = 1\n",
    "data = np.zeros((len(ps),len(Ns)))\n",
    "\n",
    "for row,p in enumerate(ps):\n",
    "    for col,N in enumerate(Ns):\n",
    "        num_trials = 100\n",
    "        G = nx.erdos_renyi_graph(N,p)\n",
    "        G = [c for c in nx.connected_component_subgraphs(G)][0]\n",
    "        Ts_rw = f.random_walk_covertime(G,m,num_trials=num_trials)\n",
    "        Ts_ue = f.urban_explorer_covertime(G,m,num_trials=num_trials)\n",
    "        data[row][col] = np.mean(Ts_ue)/np.mean(Ts_rw)\n",
    "        #print 'finished N = ' + str(N)"
   ]
  },
  {
   "cell_type": "code",
   "execution_count": null,
   "metadata": {
    "collapsed": true
   },
   "outputs": [],
   "source": [
    "import numpy as np\n",
    "import matplotlib.pyplot as plt\n",
    "from matplotlib.colors import Normalize\n",
    "\n",
    "class MidpointNormalize(Normalize):\n",
    "    def __init__(self, vmin=None, vmax=None, midpoint=None, clip=False):\n",
    "        self.midpoint = midpoint\n",
    "        Normalize.__init__(self, vmin, vmax, clip)\n",
    "\n",
    "    def __call__(self, value, clip=None):\n",
    "        # I'm ignoring masked values and all kinds of edge cases to make a\n",
    "        # simple example...\n",
    "        x, y = [self.vmin, self.midpoint, self.vmax], [0, 0.5, 1]\n",
    "        return np.ma.masked_array(np.interp(value, x, y))\n",
    "\n",
    "\n",
    "pmin,pmax = min(ps),max(ps)\n",
    "Nmin, Nmax = min(Ns), max(Ns)    \n",
    "    \n",
    "norm = MidpointNormalize(midpoint=1)\n",
    "plt.imshow(data, norm=norm, cmap=plt.cm.seismic, interpolation='none',origin='lower',\n",
    "           extent=[Nmin,Nmax,pmin,pmax],aspect='auto')\n",
    "plt.xlabel('$N$',fontsize=18)\n",
    "plt.ylabel('$p$', fontsize=18)\n",
    "plt.xticks(Ns)\n",
    "plt.yticks(ps)\n",
    "plt.colorbar()"
   ]
  },
  {
   "cell_type": "markdown",
   "metadata": {},
   "source": [
    "### Startionary densities"
   ]
  },
  {
   "cell_type": "code",
   "execution_count": 8,
   "metadata": {},
   "outputs": [
    {
     "data": {
      "image/png": "[encoded data removed]",
      "text/plain": [
       "<Figure size 432x288 with 1 Axes>"
      ]
     },
     "metadata": {},
     "output_type": "display_data"
    }
   ],
   "source": [
    "#Make graph\n",
    "N = 50\n",
    "p = 0.5\n",
    "G = nx.erdos_renyi_graph(N,p)\n",
    "G = [c for c in nx.connected_component_subgraphs(G)][0]\n",
    "\n",
    "#Run U.E.\n",
    "N = G.number_of_nodes()\n",
    "counts = np.zeros(N)\n",
    "T = 5*10**7\n",
    "counts = f.urban_explorer_stationary_densities(G,counts,T)\n",
    "counts = counts / sum(counts)\n",
    "\n",
    "#Find betweenness\n",
    "bs = nx.betweenness_centrality(G).values()\n",
    "bs = np.array(bs) / sum(bs)\n",
    "\n",
    "#Find degree\n",
    "ds = np.array([d for n, d in G.degree()])\n",
    "ds = ds / (1.0*sum(ds))\n",
    "\n",
    "plt.hist(counts,alpha=0.5)\n",
    "plt.hist(bs,alpha=0.5)\n",
    "plt.hist(ds,alpha=0.5)\n",
    "plt.legend(['pi','bi','di'])\n",
    "\n",
    "np.savetxt('data/bs_ER.txt',bs)\n",
    "np.savetxt('data/ds_ER.txt',ds)\n",
    "np.savetxt('data/ps_ER.txt',counts)"
   ]
  },
  {
   "cell_type": "code",
   "execution_count": 7,
   "metadata": {},
   "outputs": [
    {
     "data": {
      "text/plain": [
       "[<matplotlib.lines.Line2D at 0x7fab083a5250>]"
      ]
     },
     "execution_count": 7,
     "metadata": {},
     "output_type": "execute_result"
    },
    {
     "data": {
      "image/png": "[encoded data removed]",
      "text/plain": [
       "<Figure size 432x288 with 1 Axes>"
      ]
     },
     "metadata": {},
     "output_type": "display_data"
    }
   ],
   "source": [
    "plt.plot(bs,counts,'.')\n",
    "plt.plot(ds,counts,'.')"
   ]
  },
  {
   "cell_type": "code",
   "execution_count": 10,
   "metadata": {},
   "outputs": [
    {
     "data": {
      "text/plain": [
       "array([0.01143759, 0.02570313, 0.01163752, 0.01552208, 0.01675861,\n",
       "       0.02065504, 0.03264173, 0.01485084, 0.01265026, 0.0210183 ,\n",
       "       0.01760802, 0.01407687, 0.00997976, 0.01686757, 0.01661995,\n",
       "       0.01602446, 0.01660753, 0.02646673, 0.01879319, 0.02017269,\n",
       "       0.02716042, 0.01407842, 0.0188964 , 0.02327069, 0.02870184,\n",
       "       0.02963438, 0.01710894, 0.02522041, 0.01717473, 0.01640136,\n",
       "       0.0257091 , 0.01470862, 0.01555159, 0.01552756, 0.0161157 ,\n",
       "       0.02388483, 0.02530795, 0.03061679, 0.01817186, 0.02805379,\n",
       "       0.02827116, 0.0223834 , 0.01117666, 0.02819682, 0.02421044,\n",
       "       0.02800852, 0.00758314, 0.02229085, 0.01932421, 0.02116757])"
      ]
     },
     "execution_count": 10,
     "metadata": {},
     "output_type": "execute_result"
    }
   ],
   "source": [
    "bs"
   ]
  },
  {
   "cell_type": "code",
   "execution_count": null,
   "metadata": {
    "collapsed": true
   },
   "outputs": [],
   "source": []
  }
 ],
 "metadata": {
  "kernelspec": {
   "display_name": "Python 2",
   "language": "python",
   "name": "python2"
  },
  "language_info": {
   "codemirror_mode": {
    "name": "ipython",
    "version": 2
   },
   "file_extension": ".py",
   "mimetype": "text/x-python",
   "name": "python",
   "nbconvert_exporter": "python",
   "pygments_lexer": "ipython2",
   "version": "2.7.14"
  }
 },
 "nbformat": 4,
 "nbformat_minor": 2
}
