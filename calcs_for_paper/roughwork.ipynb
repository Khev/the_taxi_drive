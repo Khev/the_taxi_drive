{
 "cells": [
  {
   "cell_type": "code",
   "execution_count": 4,
   "metadata": {},
   "outputs": [],
   "source": [
    "class Node(object):\n",
    "\n",
    "    def __init__(self, data, next_node = None):\n",
    "        self.data = data\n",
    "        self.next = next_node\n",
    "        \n",
    "node = Node(1)"
   ]
  },
  {
   "cell_type": "code",
   "execution_count": 135,
   "metadata": {},
   "outputs": [
    {
     "name": "stdout",
     "output_type": "stream",
     "text": [
      "1\n",
      "0\n"
     ]
    }
   ],
   "source": [
    "def Print(root):\n",
    "    temp = root\n",
    "    while temp:\n",
    "        print temp.data\n",
    "        temp = temp.next\n",
    "    \n",
    "\n",
    "def makeList():\n",
    "    l = Node(0)\n",
    "    l.next = Node(1)\n",
    "    l.next.next = Node(2)\n",
    "    l.next.next.next = Node(3)\n",
    "    l.next.next.next.next = Node(4)\n",
    "    l.next.next.next.next.next = Node(5)\n",
    "    return l\n",
    "\n",
    "l = makeList()\n",
    "Print(tail)"
   ]
  },
  {
   "cell_type": "code",
   "execution_count": null,
   "metadata": {
    "collapsed": true
   },
   "outputs": [],
   "source": [
    "def maxSubsetSum(arr):\n",
    "    n = len(arr)\n",
    "    dp = [0]*n\n",
    "    dp[0] = arr[0]\n",
    "    dp[1] = max(arr[1], dp[0])\n",
    "    for i in range(2,n):\n",
    "        dp[i] = max(arr[i], dp[i-1], arr[i] + dp[i-2])\n",
    "    return dp[-1]"
   ]
  },
  {
   "cell_type": "code",
   "execution_count": null,
   "metadata": {
    "collapsed": true
   },
   "outputs": [],
   "source": []
  },
  {
   "cell_type": "code",
   "execution_count": null,
   "metadata": {
    "collapsed": true
   },
   "outputs": [],
   "source": []
  },
  {
   "cell_type": "code",
   "execution_count": null,
   "metadata": {
    "collapsed": true
   },
   "outputs": [],
   "source": []
  },
  {
   "cell_type": "code",
   "execution_count": null,
   "metadata": {
    "collapsed": true
   },
   "outputs": [],
   "source": []
  },
  {
   "cell_type": "code",
   "execution_count": null,
   "metadata": {
    "collapsed": true
   },
   "outputs": [],
   "source": []
  },
  {
   "cell_type": "code",
   "execution_count": null,
   "metadata": {
    "collapsed": true
   },
   "outputs": [],
   "source": []
  },
  {
   "cell_type": "code",
   "execution_count": null,
   "metadata": {
    "collapsed": true
   },
   "outputs": [],
   "source": []
  },
  {
   "cell_type": "code",
   "execution_count": null,
   "metadata": {
    "collapsed": true
   },
   "outputs": [],
   "source": []
  },
  {
   "cell_type": "code",
   "execution_count": null,
   "metadata": {
    "collapsed": true
   },
   "outputs": [],
   "source": []
  },
  {
   "cell_type": "code",
   "execution_count": null,
   "metadata": {
    "collapsed": true
   },
   "outputs": [],
   "source": []
  },
  {
   "cell_type": "code",
   "execution_count": null,
   "metadata": {
    "collapsed": true
   },
   "outputs": [],
   "source": []
  },
  {
   "cell_type": "code",
   "execution_count": null,
   "metadata": {
    "collapsed": true
   },
   "outputs": [],
   "source": []
  },
  {
   "cell_type": "code",
   "execution_count": null,
   "metadata": {
    "collapsed": true
   },
   "outputs": [],
   "source": []
  },
  {
   "cell_type": "code",
   "execution_count": null,
   "metadata": {
    "collapsed": true
   },
   "outputs": [],
   "source": []
  },
  {
   "cell_type": "code",
   "execution_count": null,
   "metadata": {
    "collapsed": true
   },
   "outputs": [],
   "source": []
  },
  {
   "cell_type": "code",
   "execution_count": null,
   "metadata": {
    "collapsed": true
   },
   "outputs": [],
   "source": []
  },
  {
   "cell_type": "code",
   "execution_count": null,
   "metadata": {
    "collapsed": true
   },
   "outputs": [],
   "source": []
  },
  {
   "cell_type": "code",
   "execution_count": null,
   "metadata": {
    "collapsed": true
   },
   "outputs": [],
   "source": []
  },
  {
   "cell_type": "code",
   "execution_count": null,
   "metadata": {
    "collapsed": true
   },
   "outputs": [],
   "source": []
  },
  {
   "cell_type": "code",
   "execution_count": null,
   "metadata": {
    "collapsed": true
   },
   "outputs": [],
   "source": []
  },
  {
   "cell_type": "code",
   "execution_count": null,
   "metadata": {
    "collapsed": true
   },
   "outputs": [],
   "source": []
  },
  {
   "cell_type": "code",
   "execution_count": null,
   "metadata": {
    "collapsed": true
   },
   "outputs": [],
   "source": []
  },
  {
   "cell_type": "code",
   "execution_count": null,
   "metadata": {
    "collapsed": true
   },
   "outputs": [],
   "source": []
  },
  {
   "cell_type": "code",
   "execution_count": null,
   "metadata": {
    "collapsed": true
   },
   "outputs": [],
   "source": []
  },
  {
   "cell_type": "code",
   "execution_count": null,
   "metadata": {
    "collapsed": true
   },
   "outputs": [],
   "source": []
  },
  {
   "cell_type": "code",
   "execution_count": 136,
   "metadata": {},
   "outputs": [
    {
     "data": {
      "text/plain": [
       "8"
      ]
     },
     "execution_count": 136,
     "metadata": {},
     "output_type": "execute_result"
    }
   ],
   "source": [
    "def maxSubsetSum(arr):\n",
    "\n",
    "    #set up\n",
    "    d = [0 for i in range(len(arr))]\n",
    "    d[0] = arr[0]\n",
    "    d[1] = max(arr[1],d[0])\n",
    "\n",
    "    #main\n",
    "    for i in range(2,len(arr)):\n",
    "        d[i] = max(arr[i],d[i-1],arr[i]+d[i-2])\n",
    "    return d[-1]\n",
    "\n",
    "\n",
    "arr = [-2,1,3,-4,5]\n",
    "maxSubsetSum(arr)"
   ]
  },
  {
   "cell_type": "code",
   "execution_count": 157,
   "metadata": {},
   "outputs": [
    {
     "ename": "SyntaxError",
     "evalue": "invalid syntax (<ipython-input-157-d14a152a7f30>, line 11)",
     "output_type": "error",
     "traceback": [
      "\u001b[0;36m  File \u001b[0;32m\"<ipython-input-157-d14a152a7f30>\"\u001b[0;36m, line \u001b[0;32m11\u001b[0m\n\u001b[0;31m    a[i] == b[i]:\u001b[0m\n\u001b[0m                ^\u001b[0m\n\u001b[0;31mSyntaxError\u001b[0m\u001b[0;31m:\u001b[0m invalid syntax\n"
     ]
    }
   ],
   "source": [
    "a = 'AbcDE'\n",
    "b = 'ABDE'\n",
    "\n",
    "a = 'AbcDE'\n",
    "b = 'AFDE'\n",
    "\n",
    "i = 0\n",
    "while len(a) >= len(b):\n",
    "    print a,i\n",
    "    try:\n",
    "        a[i] == b[i]:\n",
    "    except IndexError:\n",
    "        break\n",
    "    if a[i] != b[i]:\n",
    "        if a[i].capitalize() == b[i]:\n",
    "            a = a[:i] + a[i].capitalize() + a[i+1:]\n",
    "            i += 1\n",
    "        else:\n",
    "            a = a[:i] + a[i+1:]  #remove the char\n",
    "    else:\n",
    "        i += 1\n",
    "        \n",
    "if a == b:"
   ]
  },
  {
   "cell_type": "code",
   "execution_count": 143,
   "metadata": {},
   "outputs": [
    {
     "data": {
      "text/plain": [
       "'AbcDE'"
      ]
     },
     "execution_count": 143,
     "metadata": {},
     "output_type": "execute_result"
    }
   ],
   "source": [
    "def abbreviation(a, b):\n",
    "    m, n = len(a), len(b)\n",
    "    dp = [[False]*(m+1) for _ in range(n+1)]\n",
    "    dp[0][0] = True\n",
    "    for i in range(n+1):\n",
    "        for j in range(m+1):\n",
    "            if i == 0 and j != 0:\n",
    "                dp[i][j] = a[j-1].islower() and dp[i][j-1]\n",
    "            elif i != 0 and j != 0:\n",
    "                if a[j-1] == b[i-1]:\n",
    "                    dp[i][j] = dp[i-1][j-1]\n",
    "                elif a[j-1].upper() == b[i-1]:\n",
    "                    dp[i][j] = dp[i-1][j-1] or dp[i][j-1]\n",
    "                elif not (a[j-1].isupper() and b[i-1].isupper()):\n",
    "                    dp[i][j] = dp[i][j-1]\n",
    "    return \"YES\" if dp[n][m] else \"NO\""
   ]
  },
  {
   "cell_type": "code",
   "execution_count": 158,
   "metadata": {},
   "outputs": [
    {
     "data": {
      "text/plain": [
       "'ADE'"
      ]
     },
     "execution_count": 158,
     "metadata": {},
     "output_type": "execute_result"
    }
   ],
   "source": [
    "a.islower"
   ]
  },
  {
   "cell_type": "code",
   "execution_count": null,
   "metadata": {
    "collapsed": true
   },
   "outputs": [],
   "source": []
  }
 ],
 "metadata": {
  "kernelspec": {
   "display_name": "Python 2",
   "language": "python",
   "name": "python2"
  },
  "language_info": {
   "codemirror_mode": {
    "name": "ipython",
    "version": 2
   },
   "file_extension": ".py",
   "mimetype": "text/x-python",
   "name": "python",
   "nbconvert_exporter": "python",
   "pygments_lexer": "ipython2",
   "version": "2.7.14"
  }
 },
 "nbformat": 4,
 "nbformat_minor": 2
}
