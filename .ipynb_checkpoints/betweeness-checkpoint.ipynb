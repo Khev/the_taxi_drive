{
 "cells": [
  {
   "cell_type": "markdown",
   "metadata": {},
   "source": [
    "# Introduction\n",
    "\n",
    "Here I'm looking at the cover times of the random walker versus the urban explorer on the ring graph"
   ]
  },
  {
   "cell_type": "code",
   "execution_count": 3,
   "metadata": {},
   "outputs": [
    {
     "name": "stderr",
     "output_type": "stream",
     "text": [
      "/home/kokeeffe/anaconda2/lib/python2.7/site-packages/matplotlib/axes/_axes.py:6462: UserWarning: The 'normed' kwarg is deprecated, and has been replaced by the 'density' kwarg.\n",
      "  warnings.warn(\"The 'normed' kwarg is deprecated, and has been \"\n"
     ]
    },
    {
     "data": {
      "text/plain": [
       "<matplotlib.legend.Legend at 0x7fa79dbf66d0>"
      ]
     },
     "execution_count": 3,
     "metadata": {},
     "output_type": "execute_result"
    },
    {
     "data": {
      "image/png": "[encoded data removed]",
      "text/plain": [
       "<Figure size 432x288 with 1 Axes>"
      ]
     },
     "metadata": {},
     "output_type": "display_data"
    }
   ],
   "source": [
    "import numpy as np\n",
    "import matplotlib.pyplot as plt\n",
    "import funcs as f\n",
    "import osmnx as ox\n",
    "import networkx as nx\n",
    "from multiprocessing import Pool\n",
    "from datetime import datetime\n",
    "import time as time\n",
    "from scipy import optimize\n",
    "import pickle\n",
    "%matplotlib inline\n",
    "\n",
    "num_nodes = 20\n",
    "G = nx.path_graph(num_nodes)\n",
    "\n",
    "num_trials, m = 500, 1  # m = number of times each node has to be covered\n",
    "Ts_rw = f.random_walk_covertime(G,m,num_trials=num_trials)\n",
    "Ts_ue = f.urban_explorer_covertime(G,m,num_trials=num_trials)\n",
    "plt.hist(Ts_rw,normed=True,alpha=0.5);plt.hist(Ts_ue,normed=True,alpha=0.5);\n",
    "plt.legend(['Random walk','Urban explorer'])\n",
    "\n",
    "#np.savetxt('data/covertimes_path_urban_explorer.txt',Ts_ue)\n",
    "#np.savetxt('data/covertimes_path_random_walker.txt',Ts_rw)"
   ]
  },
  {
   "cell_type": "markdown",
   "metadata": {},
   "source": [
    "Good. Makes sense; the advective part of the urban explorer is useful on the ring. I wonder could I find\n",
    "that curve analytically. Is it an exponential?"
   ]
  },
  {
   "cell_type": "markdown",
   "metadata": {},
   "source": [
    "## Be systematic"
   ]
  },
  {
   "cell_type": "code",
   "execution_count": 14,
   "metadata": {},
   "outputs": [
    {
     "name": "stdout",
     "output_type": "stream",
     "text": [
      "finished N = 5\n",
      "finished N = 10\n",
      "finished N = 15\n",
      "finished N = 20\n",
      "finished N = 25\n",
      "finished N = 30\n",
      "finished N = 35\n",
      "finished N = 40\n",
      "finished N = 45\n",
      "finished N = 50\n",
      "finished N = 55\n",
      "finished N = 60\n",
      "finished N = 65\n",
      "finished N = 70\n",
      "finished N = 75\n",
      "finished N = 80\n",
      "finished N = 85\n",
      "finished N = 90\n",
      "finished N = 95\n",
      "finished N = 100\n"
     ]
    },
    {
     "data": {
      "image/png": "[encoded data removed]",
      "text/plain": [
       "<Figure size 432x288 with 1 Axes>"
      ]
     },
     "metadata": {},
     "output_type": "display_data"
    }
   ],
   "source": [
    "meanTratios = []\n",
    "varTratios = []\n",
    "Ns = range(5,101,5)\n",
    "m = 1\n",
    "for N in Ns:\n",
    "    num_trials = 2000\n",
    "    G = nx.path_graph(N)\n",
    "    Ts_rw = f.random_walk_covertime(G,m,num_trials=num_trials)\n",
    "    Ts_ue = f.urban_explorer_covertime(G,m,num_trials=num_trials)\n",
    "    meanTratios.append(np.mean(Ts_ue)/np.mean(Ts_rw))\n",
    "    #varTratios.append(np.std(Ts_ue) / np.std(Ts_rw) ) \n",
    "    print 'finished N = ' + str(N)\n",
    "plt.plot(Ns,meanTratios,'ko-')\n",
    "#plt.plot(Ns,varTratios,'ko-')\n",
    "plt.xlabel('N',fontsize=18)\n",
    "#plt.ylabel(' $ \\langle T \\rangle_{UE} / \\langle T \\rangle_{RW} $ ')\n",
    "plt.hlines(1,0,max(Ns),linestyles='dashed')\n",
    "\n",
    "np.savetxt('data/mean_covertime_ratio_path.txt',meanTratios)\n",
    "np.savetxt('data/mean_covertime_ratio_path_Ns.txt',Ns)"
   ]
  },
  {
   "cell_type": "code",
   "execution_count": 16,
   "metadata": {},
   "outputs": [
    {
     "name": "stdout",
     "output_type": "stream",
     "text": [
      "finished N = 10\n",
      "finished N = 100\n",
      "finished N = 500\n",
      "finished N = 1000\n"
     ]
    },
    {
     "ename": "KeyboardInterrupt",
     "evalue": "",
     "output_type": "error",
     "traceback": [
      "\u001b[0;31m---------------------------------------------------------------------------\u001b[0m",
      "\u001b[0;31mKeyboardInterrupt\u001b[0m                         Traceback (most recent call last)",
      "\u001b[0;32m<ipython-input-16-0ebceddc3fa0>\u001b[0m in \u001b[0;36m<module>\u001b[0;34m()\u001b[0m\n\u001b[1;32m      7\u001b[0m     \u001b[0mG\u001b[0m \u001b[0;34m=\u001b[0m \u001b[0mnx\u001b[0m\u001b[0;34m.\u001b[0m\u001b[0mpath_graph\u001b[0m\u001b[0;34m(\u001b[0m\u001b[0mN\u001b[0m\u001b[0;34m)\u001b[0m\u001b[0;34m\u001b[0m\u001b[0m\n\u001b[1;32m      8\u001b[0m     \u001b[0mTs_rw\u001b[0m \u001b[0;34m=\u001b[0m \u001b[0mf\u001b[0m\u001b[0;34m.\u001b[0m\u001b[0mrandom_walk_covertime\u001b[0m\u001b[0;34m(\u001b[0m\u001b[0mG\u001b[0m\u001b[0;34m,\u001b[0m\u001b[0mm\u001b[0m\u001b[0;34m,\u001b[0m\u001b[0mnum_trials\u001b[0m\u001b[0;34m=\u001b[0m\u001b[0mnum_trials\u001b[0m\u001b[0;34m)\u001b[0m\u001b[0;34m\u001b[0m\u001b[0m\n\u001b[0;32m----> 9\u001b[0;31m     \u001b[0mTs_ue\u001b[0m \u001b[0;34m=\u001b[0m \u001b[0mf\u001b[0m\u001b[0;34m.\u001b[0m\u001b[0murban_explorer_covertime\u001b[0m\u001b[0;34m(\u001b[0m\u001b[0mG\u001b[0m\u001b[0;34m,\u001b[0m\u001b[0mm\u001b[0m\u001b[0;34m,\u001b[0m\u001b[0mnum_trials\u001b[0m\u001b[0;34m=\u001b[0m\u001b[0mnum_trials\u001b[0m\u001b[0;34m)\u001b[0m\u001b[0;34m\u001b[0m\u001b[0m\n\u001b[0m\u001b[1;32m     10\u001b[0m     \u001b[0mmeanTratios\u001b[0m\u001b[0;34m.\u001b[0m\u001b[0mappend\u001b[0m\u001b[0;34m(\u001b[0m\u001b[0mnp\u001b[0m\u001b[0;34m.\u001b[0m\u001b[0mmean\u001b[0m\u001b[0;34m(\u001b[0m\u001b[0mTs_ue\u001b[0m\u001b[0;34m)\u001b[0m\u001b[0;34m/\u001b[0m\u001b[0mnp\u001b[0m\u001b[0;34m.\u001b[0m\u001b[0mmean\u001b[0m\u001b[0;34m(\u001b[0m\u001b[0mTs_rw\u001b[0m\u001b[0;34m)\u001b[0m\u001b[0;34m)\u001b[0m\u001b[0;34m\u001b[0m\u001b[0m\n\u001b[1;32m     11\u001b[0m     \u001b[0;31m#varTratios.append(np.std(Ts_ue) / np.std(Ts_rw) )\u001b[0m\u001b[0;34m\u001b[0m\u001b[0;34m\u001b[0m\u001b[0m\n",
      "\u001b[0;32m/home/kokeeffe/research/urban_sensing_spreading_process/funcs.pyc\u001b[0m in \u001b[0;36murban_explorer_covertime\u001b[0;34m(G, m, num_trials)\u001b[0m\n\u001b[1;32m     66\u001b[0m     \u001b[0mtrial\u001b[0m \u001b[0;34m=\u001b[0m \u001b[0;36m0\u001b[0m\u001b[0;34m\u001b[0m\u001b[0m\n\u001b[1;32m     67\u001b[0m \u001b[0;34m\u001b[0m\u001b[0m\n\u001b[0;32m---> 68\u001b[0;31m     \u001b[0mpaths\u001b[0m \u001b[0;34m=\u001b[0m \u001b[0mcompute_and_save_all_shortest_paths\u001b[0m\u001b[0;34m(\u001b[0m\u001b[0mG\u001b[0m\u001b[0;34m)\u001b[0m\u001b[0;34m\u001b[0m\u001b[0m\n\u001b[0m\u001b[1;32m     69\u001b[0m \u001b[0;34m\u001b[0m\u001b[0m\n\u001b[1;32m     70\u001b[0m     \u001b[0;32mwhile\u001b[0m \u001b[0mtrial\u001b[0m \u001b[0;34m<\u001b[0m \u001b[0mnum_trials\u001b[0m\u001b[0;34m:\u001b[0m\u001b[0;34m\u001b[0m\u001b[0m\n",
      "\u001b[0;32m/home/kokeeffe/research/urban_sensing_spreading_process/funcs.pyc\u001b[0m in \u001b[0;36mcompute_and_save_all_shortest_paths\u001b[0;34m(G)\u001b[0m\n\u001b[1;32m     22\u001b[0m         \u001b[0;32mfor\u001b[0m \u001b[0mend\u001b[0m \u001b[0;32min\u001b[0m \u001b[0mnodes\u001b[0m\u001b[0;34m:\u001b[0m\u001b[0;34m\u001b[0m\u001b[0m\n\u001b[1;32m     23\u001b[0m             \u001b[0mpath\u001b[0m \u001b[0;34m=\u001b[0m \u001b[0mnx\u001b[0m\u001b[0;34m.\u001b[0m\u001b[0mall_shortest_paths\u001b[0m\u001b[0;34m(\u001b[0m\u001b[0mG\u001b[0m\u001b[0;34m,\u001b[0m\u001b[0mstart\u001b[0m\u001b[0;34m,\u001b[0m\u001b[0mend\u001b[0m\u001b[0;34m)\u001b[0m\u001b[0;34m\u001b[0m\u001b[0m\n\u001b[0;32m---> 24\u001b[0;31m             \u001b[0mpath\u001b[0m \u001b[0;34m=\u001b[0m \u001b[0;34m[\u001b[0m\u001b[0mp\u001b[0m \u001b[0;32mfor\u001b[0m \u001b[0mp\u001b[0m \u001b[0;32min\u001b[0m \u001b[0mpath\u001b[0m\u001b[0;34m]\u001b[0m\u001b[0;34m\u001b[0m\u001b[0m\n\u001b[0m\u001b[1;32m     25\u001b[0m             \u001b[0mpaths\u001b[0m\u001b[0;34m[\u001b[0m\u001b[0mstart\u001b[0m\u001b[0;34m]\u001b[0m\u001b[0;34m[\u001b[0m\u001b[0mend\u001b[0m\u001b[0;34m]\u001b[0m \u001b[0;34m=\u001b[0m \u001b[0mpath\u001b[0m\u001b[0;34m\u001b[0m\u001b[0m\n\u001b[1;32m     26\u001b[0m     \u001b[0;32mreturn\u001b[0m \u001b[0mpaths\u001b[0m\u001b[0;34m\u001b[0m\u001b[0m\n",
      "\u001b[0;32m/home/kokeeffe/anaconda2/lib/python2.7/site-packages/networkx/algorithms/shortest_paths/generic.pyc\u001b[0m in \u001b[0;36mall_shortest_paths\u001b[0;34m(G, source, target, weight)\u001b[0m\n\u001b[1;32m    397\u001b[0m             \u001b[0mtop\u001b[0m \u001b[0;34m+=\u001b[0m \u001b[0;36m1\u001b[0m\u001b[0;34m\u001b[0m\u001b[0m\n\u001b[1;32m    398\u001b[0m             \u001b[0;32mif\u001b[0m \u001b[0mtop\u001b[0m \u001b[0;34m==\u001b[0m \u001b[0mlen\u001b[0m\u001b[0;34m(\u001b[0m\u001b[0mstack\u001b[0m\u001b[0;34m)\u001b[0m\u001b[0;34m:\u001b[0m\u001b[0;34m\u001b[0m\u001b[0m\n\u001b[0;32m--> 399\u001b[0;31m                 \u001b[0mstack\u001b[0m\u001b[0;34m.\u001b[0m\u001b[0mappend\u001b[0m\u001b[0;34m(\u001b[0m\u001b[0;34m[\u001b[0m\u001b[0mpred\u001b[0m\u001b[0;34m[\u001b[0m\u001b[0mnode\u001b[0m\u001b[0;34m]\u001b[0m\u001b[0;34m[\u001b[0m\u001b[0mi\u001b[0m\u001b[0;34m]\u001b[0m\u001b[0;34m,\u001b[0m \u001b[0;36m0\u001b[0m\u001b[0;34m]\u001b[0m\u001b[0;34m)\u001b[0m\u001b[0;34m\u001b[0m\u001b[0m\n\u001b[0m\u001b[1;32m    400\u001b[0m             \u001b[0;32melse\u001b[0m\u001b[0;34m:\u001b[0m\u001b[0;34m\u001b[0m\u001b[0m\n\u001b[1;32m    401\u001b[0m                 \u001b[0mstack\u001b[0m\u001b[0;34m[\u001b[0m\u001b[0mtop\u001b[0m\u001b[0;34m]\u001b[0m \u001b[0;34m=\u001b[0m \u001b[0;34m[\u001b[0m\u001b[0mpred\u001b[0m\u001b[0;34m[\u001b[0m\u001b[0mnode\u001b[0m\u001b[0;34m]\u001b[0m\u001b[0;34m[\u001b[0m\u001b[0mi\u001b[0m\u001b[0;34m]\u001b[0m\u001b[0;34m,\u001b[0m \u001b[0;36m0\u001b[0m\u001b[0;34m]\u001b[0m\u001b[0;34m\u001b[0m\u001b[0m\n",
      "\u001b[0;31mKeyboardInterrupt\u001b[0m: "
     ]
    }
   ],
   "source": [
    "mT_rw = []\n",
    "mT_ur = []\n",
    "Ns = [10,100,500,1000,2000,5000]\n",
    "m = 1\n",
    "for N in Ns:\n",
    "    num_trials = 100\n",
    "    G = nx.path_graph(N)\n",
    "    Ts_rw = f.random_walk_covertime(G,m,num_trials=num_trials)\n",
    "    Ts_ue = f.urban_explorer_covertime(G,m,num_trials=num_trials)\n",
    "    meanTratios.append(np.mean(Ts_ue)/np.mean(Ts_rw))\n",
    "    #varTratios.append(np.std(Ts_ue) / np.std(Ts_rw) ) \n",
    "    print 'finished N = ' + str(N)\n",
    "plt.plot(Ns,meanTratios,'ko-')\n",
    "#plt.plot(Ns,varTratios,'ko-')\n",
    "plt.xlabel('N',fontsize=18)\n",
    "#plt.ylabel(' $ \\langle T \\rangle_{UE} / \\langle T \\rangle_{RW} $ ')\n",
    "plt.hlines(1,0,max(Ns),linestyles='dashed')"
   ]
  },
  {
   "cell_type": "markdown",
   "metadata": {},
   "source": [
    "### Asymptotic"
   ]
  },
  {
   "cell_type": "code",
   "execution_count": 68,
   "metadata": {},
   "outputs": [
    {
     "name": "stdout",
     "output_type": "stream",
     "text": [
      "finished N = 10\n",
      "finished N = 50\n",
      "finished N = 100\n",
      "finished N = 150\n",
      "finished N = 200\n",
      "finished N = 250\n",
      "finished N = 300\n",
      "finished N = 350\n",
      "finished N = 400\n",
      "finished N = 450\n",
      "finished N = 500\n"
     ]
    },
    {
     "data": {
      "image/png": "[encoded data removed]",
      "text/plain": [
       "<Figure size 432x288 with 1 Axes>"
      ]
     },
     "metadata": {},
     "output_type": "display_data"
    }
   ],
   "source": [
    "meanTs = []\n",
    "varTs = []\n",
    "Ns = [10] + range(50,501,50)\n",
    "m = 1\n",
    "for N in Ns:\n",
    "    num_trials = 5000\n",
    "    G = nx.path_graph(N)\n",
    "    Ts_ue = f.urban_explorer_covertime(G,m,num_trials=num_trials)\n",
    "    meanTs.append(np.mean(Ts_ue))\n",
    "    varTs.append(np.std(Ts_ue)) \n",
    "    print 'finished N = ' + str(N)\n",
    "    \n",
    "    \n",
    "from scipy.optimize import curve_fit\n",
    "def func(N,b,c):\n",
    "    return b*N**c\n",
    "popt, pcov = curve_fit(func,Ns,meanTs)\n",
    "plt.plot(Ns, func(Ns, *popt), 'g--')\n",
    "plt.errorbar(Ns,meanTs,yerr=varTs,fmt='o')\n",
    "\n",
    "np.savetxt('data/mean_cover_td_path.txt',meanTs)\n",
    "np.savetxt('data/mean_cover_td_path_Ns.txt',Ns)\n",
    "np.savetxt('data/mean_cover_td_path_std.txt',varTs)"
   ]
  },
  {
   "cell_type": "markdown",
   "metadata": {},
   "source": [
    "I'm rerunning for 5000 trials, to be as sure as possible of the results"
   ]
  },
  {
   "cell_type": "code",
   "execution_count": 69,
   "metadata": {},
   "outputs": [
    {
     "data": {
      "text/plain": [
       "array([0.49330698, 2.0022949 ])"
      ]
     },
     "execution_count": 69,
     "metadata": {},
     "output_type": "execute_result"
    },
    {
     "data": {
      "image/png": "[encoded data removed]",
      "text/plain": [
       "<Figure size 432x288 with 1 Axes>"
      ]
     },
     "metadata": {},
     "output_type": "display_data"
    }
   ],
   "source": [
    "def func(N,b,c):\n",
    "    return b*N**c\n",
    "popt, pcov = curve_fit(func,Ns,meanTs)\n",
    "plt.plot(Ns, func(Ns, *popt), 'g--')\n",
    "plt.errorbar(Ns,meanTs,yerr=varTs,fmt='o')\n",
    "popt"
   ]
  },
  {
   "cell_type": "markdown",
   "metadata": {
    "collapsed": true
   },
   "source": [
    "### Test coefficient exactly"
   ]
  },
  {
   "cell_type": "code",
   "execution_count": null,
   "metadata": {},
   "outputs": [
    {
     "data": {
      "text/plain": [
       "[<matplotlib.lines.Line2D at 0x7fa79a199590>]"
      ]
     },
     "execution_count": 6,
     "metadata": {},
     "output_type": "execute_result"
    },
    {
     "data": {
      "image/png": "[encoded data removed]",
      "text/plain": [
       "<Figure size 432x288 with 1 Axes>"
      ]
     },
     "metadata": {},
     "output_type": "display_data"
    }
   ],
   "source": [
    "def find_delta(G,num_trials):\n",
    "    \n",
    "    meanTs = []\n",
    "    nodes = [node for node in G.nodes()]\n",
    "    Ts = []\n",
    "    trial = 0\n",
    "    m = 1\n",
    "    N = G.number_of_nodes()\n",
    "    \n",
    "    paths = compute_and_save_all_shortest_paths(G)\n",
    "    \n",
    "    while trial < num_trials[-1]:\n",
    "        trial += 1\n",
    "        time = 0\n",
    "        counts = np.zeros(len(nodes)) #count[i] count of node is        \n",
    "        current_position = np.random.choice(nodes)\n",
    "        counts[current_position] += 1\n",
    "        num_unvisited_nodes = np.sum(counts < m)\n",
    "        while num_unvisited_nodes > 0:\n",
    "            nodes_minus_origin = nodes[:current_position] + nodes[current_position+1:]\n",
    "            destination = np.random.choice(nodes_minus_origin)\n",
    "            \n",
    "            #Pick one of possibly many shortest paths\n",
    "            all_shortest_paths = paths[current_position][destination]\n",
    "            temp = np.random.choice(range(len(all_shortest_paths)))\n",
    "            path = all_shortest_paths[temp]\n",
    "            path = path[1:] #remove the origin\n",
    "            \n",
    "            #Traverse path\n",
    "            for node in path:\n",
    "                counts[node] += 1\n",
    "                num_unvisited_nodes = np.sum(counts < m)\n",
    "                time += 1\n",
    "            current_position = destination\n",
    "        Ts.append(time)\n",
    "        if trial in num_trials:\n",
    "            meanTs.append(np.mean(Ts))\n",
    "    return [i - (1.0*(N)/2.0) for i in meanTs]\n",
    "\n",
    "\n",
    "from funcs import *\n",
    "N = 10\n",
    "#num_trials = [10**2,10**3,10**4]\n",
    "num_trials = [10**2, 10**3, 10**4, 10**5, 10**6]\n",
    "G = nx.path_graph(N)\n",
    "delta = find_delta(G,num_trials)\n",
    "plt.plot(num_trials, delta)"
   ]
  },
  {
   "cell_type": "code",
   "execution_count": null,
   "metadata": {
    "collapsed": true
   },
   "outputs": [],
   "source": [
    "from funcs import *\n",
    "N = 50\n",
    "#num_trials = [10**2,10**3,10**4]\n",
    "num_trials = [10**2, 10**3, 10**4, 10**5, 10**6]\n",
    "G = nx.path_graph(N)\n",
    "delta = find_delta(G,num_trials)\n",
    "plt.plot(num_trials, delta)"
   ]
  },
  {
   "cell_type": "markdown",
   "metadata": {},
   "source": [
    "### Be systematic"
   ]
  },
  {
   "cell_type": "code",
   "execution_count": null,
   "metadata": {
    "collapsed": true
   },
   "outputs": [],
   "source": [
    "Ns = [10,50]\n",
    "num_trials = [10**2, 10**3]\n",
    "for N in Ns:\n",
    "    G = nx.path_graph(N)\n",
    "    delta = find_delta(G,num_trials)\n",
    "    plt.plot(num_trials, delta,'o-')\n",
    "    np.savetxt('data/converge_delta_ring_graph_N_' + str(N) + '.txt',delta)\n",
    "    np.savetxt('data/converge_num_trials_ring_graph_N_' + str(N) + '.txt',num_trials)\n",
    "plt.plot(num_trials, [0 for i in num_trials])"
   ]
  }
 ],
 "metadata": {
  "kernelspec": {
   "display_name": "Python 2",
   "language": "python",
   "name": "python2"
  },
  "language_info": {
   "codemirror_mode": {
    "name": "ipython",
    "version": 2
   },
   "file_extension": ".py",
   "mimetype": "text/x-python",
   "name": "python",
   "nbconvert_exporter": "python",
   "pygments_lexer": "ipython2",
   "version": "2.7.14"
  }
 },
 "nbformat": 4,
 "nbformat_minor": 2
}
