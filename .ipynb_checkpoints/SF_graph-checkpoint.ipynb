{
 "cells": [
  {
   "cell_type": "markdown",
   "metadata": {},
   "source": [
    "# Introduction\n",
    "\n",
    "Here I want to compute the n-cover times. For my taxi-trip process, as well as the random walk. For N = 1, i expect the random walk to win. I'm hoping that for n > 2, the taxi-trip will do better."
   ]
  },
  {
   "cell_type": "code",
   "execution_count": 2,
   "metadata": {},
   "outputs": [
    {
     "data": {
      "text/plain": [
       "<matplotlib.legend.Legend at 0x7f8c09b47c90>"
      ]
     },
     "execution_count": 2,
     "metadata": {},
     "output_type": "execute_result"
    },
    {
     "data": {
      "image/png": "[encoded data removed]",
      "text/plain": [
       "<Figure size 432x288 with 1 Axes>"
      ]
     },
     "metadata": {},
     "output_type": "display_data"
    }
   ],
   "source": [
    "import numpy as np\n",
    "import matplotlib.pyplot as plt\n",
    "import funcs as f\n",
    "import osmnx as ox\n",
    "import networkx as nx\n",
    "from multiprocessing import Pool\n",
    "from datetime import datetime\n",
    "import time as time\n",
    "from scipy import optimize\n",
    "import pickle\n",
    "%matplotlib inline\n",
    "\n",
    "N,p = 15, 0.3\n",
    "G = nx.erdos_renyi_graph(N,p)\n",
    "G = [c for c in nx.connected_component_subgraphs(G)][0]\n",
    "\n",
    "num_trials, n = 1000, 1\n",
    "Ts_rw = f.random_walk_covertime(G,n,num_trials=num_trials)\n",
    "Ts_rd = f.urban_explorer_covertime(G,n,num_trials=num_trials)\n",
    "plt.hist(Ts_rw, alpha=0.75);plt.hist(Ts_rd,alpha=0.75);plt.legend(['Random walk','Urban explorer'])"
   ]
  },
  {
   "cell_type": "markdown",
   "metadata": {},
   "source": [
    "## Vary N"
   ]
  },
  {
   "cell_type": "code",
   "execution_count": 13,
   "metadata": {},
   "outputs": [
    {
     "name": "stdout",
     "output_type": "stream",
     "text": [
      "finished N = 5\n",
      "finished N = 15\n",
      "finished N = 25\n",
      "finished N = 35\n",
      "finished N = 45\n",
      "finished N = 55\n",
      "finished N = 65\n",
      "finished N = 75\n",
      "finished N = 85\n",
      "finished N = 95\n",
      "finished N = 105\n",
      "finished N = 115\n",
      "finished N = 125\n",
      "finished N = 135\n",
      "finished N = 145\n",
      "finished N = 155\n",
      "finished N = 165\n",
      "finished N = 175\n",
      "finished N = 185\n",
      "finished N = 195\n",
      "finished N = 205\n",
      "finished N = 215\n",
      "finished N = 225\n",
      "finished N = 235\n",
      "finished N = 245\n",
      "finished N = 255\n",
      "finished N = 265\n",
      "finished N = 275\n",
      "finished N = 285\n",
      "finished N = 295\n",
      "finished N = 305\n",
      "finished N = 315\n",
      "finished N = 325\n",
      "finished N = 335\n",
      "finished N = 345\n",
      "finished N = 355\n",
      "finished N = 365\n",
      "finished N = 375\n",
      "finished N = 385\n",
      "finished N = 395\n",
      "finished N = 405\n",
      "finished N = 415\n",
      "finished N = 425\n",
      "finished N = 435\n",
      "finished N = 445\n",
      "finished N = 455\n",
      "finished N = 465\n",
      "finished N = 475\n",
      "finished N = 485\n",
      "finished N = 495\n"
     ]
    },
    {
     "data": {
      "text/plain": [
       "<matplotlib.collections.LineCollection at 0x7f8c05b6fb90>"
      ]
     },
     "execution_count": 13,
     "metadata": {},
     "output_type": "execute_result"
    },
    {
     "data": {
      "image/png": "[encoded data removed]",
      "text/plain": [
       "<Figure size 432x288 with 1 Axes>"
      ]
     },
     "metadata": {},
     "output_type": "display_data"
    }
   ],
   "source": [
    "meanTratios = []\n",
    "Ns = range(5,500,10)\n",
    "m = 1\n",
    "\n",
    "for N in Ns:\n",
    "    num_trials = 1000\n",
    "\n",
    "    p = 0.4\n",
    "    G = nx.erdos_renyi_graph(N,p)\n",
    "    G = [c for c in nx.connected_component_subgraphs(G)][0]\n",
    "    \n",
    "    Ts_rw = f.random_walk_covertime(G,m,num_trials=num_trials)\n",
    "    Ts_ue = f.urban_explorer_covertime(G,m,num_trials=num_trials)\n",
    "    meanTratios.append(np.mean(Ts_ue)/np.mean(Ts_rw))\n",
    "    print 'finished N = ' + str(N)\n",
    "plt.plot(Ns,meanTratios,'ko-')\n",
    "plt.xlabel('N',fontsize=18)\n",
    "#plt.ylabel(' $ \\langle T \\rangle_{UE} / \\langle T \\rangle_{RW} $ ')\n",
    "plt.hlines(1,0,max(Ns),linestyles='dashed')"
   ]
  },
  {
   "cell_type": "markdown",
   "metadata": {},
   "source": [
    "Interesting: the urban explorer is better here too."
   ]
  },
  {
   "cell_type": "markdown",
   "metadata": {},
   "source": [
    "### Startionary densities"
   ]
  },
  {
   "cell_type": "code",
   "execution_count": 9,
   "metadata": {},
   "outputs": [
    {
     "data": {
      "text/plain": [
       "(array([6., 4., 1., 3., 1., 1., 2., 0., 1., 1.]),\n",
       " array([0.00348584, 0.01872238, 0.03395892, 0.04919546, 0.064432  ,\n",
       "        0.07966853, 0.09490507, 0.11014161, 0.12537815, 0.14061469,\n",
       "        0.15585123]),\n",
       " <a list of 10 Patch objects>)"
      ]
     },
     "execution_count": 9,
     "metadata": {},
     "output_type": "execute_result"
    },
    {
     "data": {
      "image/png": "[encoded data removed]",
      "text/plain": [
       "<Figure size 432x288 with 1 Axes>"
      ]
     },
     "metadata": {},
     "output_type": "display_data"
    }
   ],
   "source": [
    "#Make graph\n",
    "N = 20\n",
    "p = 0.4\n",
    "G = nx.erdos_renyi_graph(N,p)\n",
    "G = [c for c in nx.connected_component_subgraphs(G)][0]\n",
    "\n",
    "#Run U.E.\n",
    "N = G.number_of_nodes()\n",
    "counts = np.zeros(N)\n",
    "T = 10**5\n",
    "counts = f.urban_explorer_stationary_densities(G,counts,T)\n",
    "counts = counts / sum(counts)\n",
    "\n",
    "#Find betweenness\n",
    "bs = nx.betweenness_centrality(G).values()\n",
    "bs = np.array(bs) / sum(bs)\n",
    "\n",
    "plt.hist(counts,alpha=0.5)\n",
    "plt.hist(bs,alpha=0.5)"
   ]
  },
  {
   "cell_type": "code",
   "execution_count": 16,
   "metadata": {},
   "outputs": [
    {
     "data": {
      "text/plain": [
       "[<matplotlib.lines.Line2D at 0x7f8c04cc0ad0>]"
      ]
     },
     "execution_count": 16,
     "metadata": {},
     "output_type": "execute_result"
    },
    {
     "data": {
      "image/png": "[encoded data removed]",
      "text/plain": [
       "<Figure size 432x288 with 1 Axes>"
      ]
     },
     "metadata": {},
     "output_type": "display_data"
    }
   ],
   "source": [
    "plt.plot(bs,counts,'.')"
   ]
  },
  {
   "cell_type": "markdown",
   "metadata": {},
   "source": [
    "Ok, so the stationary densities are the betweeness."
   ]
  },
  {
   "cell_type": "code",
   "execution_count": 14,
   "metadata": {},
   "outputs": [
    {
     "data": {
      "text/plain": [
       "array([0.06520386, 0.03148148, 0.10714286, 0.05426393, 0.0348117 ,\n",
       "       0.09150327, 0.05175848, 0.03006536, 0.01282291, 0.02407407,\n",
       "       0.15585123, 0.00348584, 0.04957983, 0.01165577, 0.12628385,\n",
       "       0.02254902, 0.01406785, 0.00991285, 0.00404606, 0.09943978])"
      ]
     },
     "execution_count": 14,
     "metadata": {},
     "output_type": "execute_result"
    }
   ],
   "source": [
    "bs"
   ]
  },
  {
   "cell_type": "code",
   "execution_count": 15,
   "metadata": {},
   "outputs": [
    {
     "data": {
      "text/plain": [
       "array([0.05659943, 0.04194958, 0.07557924, 0.05261947, 0.04376956,\n",
       "       0.06911931, 0.0498095 , 0.04167958, 0.03375966, 0.03872961,\n",
       "       0.09542905, 0.02864971, 0.0503095 , 0.03347967, 0.08408916,\n",
       "       0.03694963, 0.03409966, 0.03179968, 0.0296997 , 0.07187928])"
      ]
     },
     "execution_count": 15,
     "metadata": {},
     "output_type": "execute_result"
    }
   ],
   "source": [
    "counts"
   ]
  },
  {
   "cell_type": "code",
   "execution_count": null,
   "metadata": {
    "collapsed": true
   },
   "outputs": [],
   "source": []
  }
 ],
 "metadata": {
  "kernelspec": {
   "display_name": "Python 2",
   "language": "python",
   "name": "python2"
  },
  "language_info": {
   "codemirror_mode": {
    "name": "ipython",
    "version": 2
   },
   "file_extension": ".py",
   "mimetype": "text/x-python",
   "name": "python",
   "nbconvert_exporter": "python",
   "pygments_lexer": "ipython2",
   "version": "2.7.14"
  }
 },
 "nbformat": 4,
 "nbformat_minor": 2
}
