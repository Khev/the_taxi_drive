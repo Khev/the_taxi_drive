{
 "cells": [
  {
   "cell_type": "code",
   "execution_count": 1,
   "metadata": {},
   "outputs": [
    {
     "data": {
      "text/plain": [
       "<matplotlib.legend.Legend at 0x7fe74526ed50>"
      ]
     },
     "execution_count": 1,
     "metadata": {},
     "output_type": "execute_result"
    },
    {
     "data": {
      "image/png": "[encoded data removed]",
      "text/plain": [
       "<Figure size 432x288 with 1 Axes>"
      ]
     },
     "metadata": {},
     "output_type": "display_data"
    }
   ],
   "source": [
    "import numpy as np\n",
    "import matplotlib.pyplot as plt\n",
    "import funcs as f\n",
    "import osmnx as ox\n",
    "import networkx as nx\n",
    "from multiprocessing import Pool\n",
    "from datetime import datetime\n",
    "import time as time\n",
    "from scipy import optimize\n",
    "import pickle\n",
    "%matplotlib inline\n",
    "\n",
    "num_nodes = 20\n",
    "G = nx.cycle_graph(num_nodes)\n",
    "\n",
    "num_trials, m = 10, 1  # m = number of times each node has to be covered\n",
    "Ts_rw = f.random_walk_covertime(G,m,num_trials=num_trials)\n",
    "Ts_ue = f.urban_explorer_covertime(G,m,num_trials=num_trials)\n",
    "plt.hist(Ts_rw);plt.hist(Ts_ue);plt.legend(['Random walk','Urban explorer'])\n",
    "\n",
    "#np.savetxt('data/covertimes_ring_urban_explorer.txt',Ts_ue)\n",
    "#np.savetxt('data/covertimes_ring_random_walker.txt',Ts_rw)"
   ]
  },
  {
   "cell_type": "code",
   "execution_count": 35,
   "metadata": {},
   "outputs": [],
   "source": [
    "def persisent_random_walk_ring(G, eps, num_trials=10):\n",
    "    \n",
    "    \"\"\"\n",
    "    Does a random walk until all nodes have been covered\n",
    "    at least m times. Does this for num_trials times.\n",
    "    \"\"\"\n",
    "    \n",
    "    nodes = [node for node in G.nodes()]  #assume labeled 0,1,2,....n-1\n",
    "    Ts = []\n",
    "    trial = 0\n",
    "    N = G.number_of_nodes()\n",
    "    while trial < num_trials:\n",
    "        trial += 1\n",
    "        counts = np.zeros(len(nodes)) #count[i] count of node is\n",
    "        time = 0\n",
    "        current_position = np.random.choice(nodes)\n",
    "        counts[current_position] += 1\n",
    "        num_unvisited_nodes = np.sum(counts < m)\n",
    "        dirn = 1\n",
    "        while num_unvisited_nodes > 0:\n",
    "            time += 1\n",
    "            neighbours = G[current_position].keys()\n",
    "            \n",
    "            #Now toss coin -- this relies on the nodes being labeled sequentially\n",
    "            temp = np.random.rand()\n",
    "    \n",
    "            #keep direction\n",
    "            if temp <= (1.0 + eps) / 2.0:\n",
    "                new_position = np.mod(current_position + dirn, N)\n",
    "            else:\n",
    "                dirn = -np.sign(dirn)\n",
    "                new_position = np.mod(current_position + dirn, N)\n",
    "                \n",
    "            counts[new_position] += 1\n",
    "            current_position = new_position\n",
    "            num_unvisited_nodes = np.sum(counts < 1)\n",
    "        Ts.append(time)\n",
    "    return Ts"
   ]
  },
  {
   "cell_type": "code",
   "execution_count": 49,
   "metadata": {},
   "outputs": [
    {
     "name": "stdout",
     "output_type": "stream",
     "text": [
      "finished N = 5\n",
      "finished N = 10\n",
      "finished N = 15\n",
      "finished N = 20\n",
      "finished N = 25\n",
      "finished N = 30\n",
      "finished N = 35\n",
      "finished N = 40\n",
      "finished N = 45\n",
      "finished N = 50\n",
      "finished N = 55\n",
      "finished N = 60\n",
      "finished N = 65\n",
      "finished N = 70\n",
      "finished N = 75\n",
      "finished N = 80\n",
      "finished N = 85\n",
      "finished N = 90\n",
      "finished N = 95\n",
      "finished N = 100\n"
     ]
    },
    {
     "data": {
      "text/plain": [
       "<matplotlib.legend.Legend at 0x7fe740b69e50>"
      ]
     },
     "execution_count": 49,
     "metadata": {},
     "output_type": "execute_result"
    },
    {
     "data": {
      "image/png": "[encoded data removed]",
      "text/plain": [
       "<Figure size 432x288 with 1 Axes>"
      ]
     },
     "metadata": {},
     "output_type": "display_data"
    }
   ],
   "source": [
    "meanT_rw, meanT_prw, meanT_ue = [], [], []\n",
    "Ns = range(5,101,5)\n",
    "m, eps = 1, 0.8\n",
    "\n",
    "for N in Ns:\n",
    "    num_trials = 1000\n",
    "    G = nx.cycle_graph(N)\n",
    "    Ts_rw = f.random_walk_covertime(G,m,num_trials=num_trials)\n",
    "    Ts_prw = persisent_random_walk_ring(G,eps,num_trials=num_trials)\n",
    "    meanT_rw.append(np.mean(Ts_rw))\n",
    "    meanT_prw.append(np.mean(Ts_prw))\n",
    "    meanT_ue.append(np.mean(Ts_ue))\n",
    "    print 'finished N = ' + str(N)\n",
    "    \n",
    "plt.plot(Ns,meanT_rw)\n",
    "plt.plot(Ns,meanT_prw)\n",
    "plt.plot(Ns,meanT_ue)\n",
    "plt.xlabel('N',fontsize=18)\n",
    "plt.hlines(1,0,max(Ns),linestyles='dashed')\n",
    "plt.legend(['random walk', 'persistent random walk', 'taxi drive'])\n",
    "\n",
    "#np.savetxt('data/mean_covertime_ratio_ring.txt',meanTratios)\n",
    "#np.savetxt('data/mean_covertime_ratio_ring_Ns.txt',Ns)"
   ]
  },
  {
   "cell_type": "markdown",
   "metadata": {},
   "source": [
    "### Persistent random walk line"
   ]
  },
  {
   "cell_type": "code",
   "execution_count": 55,
   "metadata": {},
   "outputs": [
    {
     "name": "stdout",
     "output_type": "stream",
     "text": [
      "finished N = 5\n",
      "finished N = 55\n",
      "finished N = 105\n",
      "finished N = 155\n",
      "finished N = 205\n",
      "finished N = 255\n",
      "finished N = 305\n",
      "finished N = 355\n",
      "finished N = 405\n",
      "finished N = 455\n"
     ]
    },
    {
     "data": {
      "text/plain": [
       "<matplotlib.legend.Legend at 0x7fe740aaae90>"
      ]
     },
     "execution_count": 55,
     "metadata": {},
     "output_type": "execute_result"
    },
    {
     "data": {
      "image/png": "[encoded data removed]",
      "text/plain": [
       "<Figure size 432x288 with 1 Axes>"
      ]
     },
     "metadata": {},
     "output_type": "display_data"
    }
   ],
   "source": [
    "def persisent_random_walk_line(G, eps, num_trials=10):\n",
    "    \n",
    "    \"\"\"\n",
    "    Does a random walk until all nodes have been covered\n",
    "    at least m times. Does this for num_trials times.\n",
    "    \"\"\"\n",
    "    \n",
    "    nodes = [node for node in G.nodes()]  #assume labeled 0,1,2,....n-1\n",
    "    Ts = []\n",
    "    trial = 0\n",
    "    N = G.number_of_nodes()\n",
    "    while trial < num_trials:\n",
    "        trial += 1\n",
    "        counts = np.zeros(len(nodes)) #count[i] count of node is\n",
    "        time = 0\n",
    "        current_position = np.random.choice(nodes)\n",
    "        counts[current_position] += 1\n",
    "        num_unvisited_nodes = np.sum(counts < m)\n",
    "        dirn = 1\n",
    "        while num_unvisited_nodes > 0:\n",
    "            time += 1\n",
    "            \n",
    "            #Now toss coin -- this relies on the nodes being labeled sequentially\n",
    "            temp = np.random.rand()\n",
    "    \n",
    "            #keep direction\n",
    "            if temp <= (1.0 + eps) / 2.0:\n",
    "                new_position = current_position + dirn\n",
    "                \n",
    "                #BSs\n",
    "                if new_position == N:\n",
    "                    new_position = N-2\n",
    "                    dirn = -1\n",
    "                    \n",
    "                if new_position == -1:\n",
    "                    new_position = 1\n",
    "                    dirn = 1\n",
    "                    \n",
    "            #turn direction\n",
    "            else:\n",
    "                dirn = -np.sign(dirn)\n",
    "                new_position = current_position + dirn\n",
    "            counts[new_position] += 1\n",
    "            current_position = new_position\n",
    "            num_unvisited_nodes = np.sum(counts < 1)\n",
    "        Ts.append(time)\n",
    "    return Ts\n",
    "\n",
    "\n",
    "meanT_rw, meanT_prw, meanT_ue = [], [], []\n",
    "Ns = range(5,101,5)\n",
    "Ns = range(5,501,50)\n",
    "m, eps = 1, 0.8\n",
    "\n",
    "for N in Ns:\n",
    "    num_trials = 100\n",
    "    G = nx.path_graph(N)\n",
    "    Ts_rw = f.random_walk_covertime(G,m,num_trials=num_trials)\n",
    "    Ts_prw = persisent_random_walk_line(G,eps,num_trials=num_trials)\n",
    "    Ts_ue = f.urban_explorer_covertime(G,m,num_trials=num_trials)\n",
    "    meanT_rw.append(np.mean(Ts_rw))\n",
    "    meanT_prw.append(np.mean(Ts_prw))\n",
    "    meanT_ue.append(np.mean(Ts_ue))\n",
    "    print 'finished N = ' + str(N)\n",
    "    \n",
    "plt.plot(Ns,meanT_rw)\n",
    "plt.plot(Ns,meanT_prw)\n",
    "plt.plot(Ns,meanT_ue)\n",
    "plt.xlabel('N',fontsize=18)\n",
    "plt.hlines(1,0,max(Ns),linestyles='dashed')\n",
    "plt.legend(['random walk', 'persistent random walk', 'taxi drive'])\n",
    "\n",
    "#np.savetxt('data/mean_covertime_ratio_ring.txt',meanTratios)\n",
    "#np.savetxt('data/mean_covertime_ratio_ring_Ns.txt',Ns)"
   ]
  },
  {
   "cell_type": "code",
   "execution_count": 61,
   "metadata": {},
   "outputs": [
    {
     "data": {
      "text/plain": [
       "99.99999999999991"
      ]
     },
     "execution_count": 61,
     "metadata": {},
     "output_type": "execute_result"
    }
   ],
   "source": [
    "1.0 / (1.0 - 0.99)"
   ]
  },
  {
   "cell_type": "code",
   "execution_count": null,
   "metadata": {
    "collapsed": true
   },
   "outputs": [],
   "source": []
  }
 ],
 "metadata": {
  "kernelspec": {
   "display_name": "Python 2",
   "language": "python",
   "name": "python2"
  },
  "language_info": {
   "codemirror_mode": {
    "name": "ipython",
    "version": 2
   },
   "file_extension": ".py",
   "mimetype": "text/x-python",
   "name": "python",
   "nbconvert_exporter": "python",
   "pygments_lexer": "ipython2",
   "version": "2.7.14"
  }
 },
 "nbformat": 4,
 "nbformat_minor": 2
}
