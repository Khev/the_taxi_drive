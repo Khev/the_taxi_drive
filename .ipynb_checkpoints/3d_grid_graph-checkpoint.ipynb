{
 "cells": [
  {
   "cell_type": "markdown",
   "metadata": {},
   "source": [
    "# Introduction\n",
    "\n",
    "Here I want to compute the n-cover times. For my taxi-trip process, as well as the random walk. For N = 1, i expect the random walk to win. I'm hoping that for n > 2, the taxi-trip will do better."
   ]
  },
  {
   "cell_type": "code",
   "execution_count": 14,
   "metadata": {},
   "outputs": [
    {
     "data": {
      "image/png": "[encoded data removed]",
      "text/plain": [
       "<Figure size 432x288 with 1 Axes>"
      ]
     },
     "metadata": {},
     "output_type": "display_data"
    }
   ],
   "source": [
    "import numpy as np\n",
    "import matplotlib.pyplot as plt\n",
    "import funcs as f\n",
    "import osmnx as ox\n",
    "import networkx as nx\n",
    "from multiprocessing import Pool\n",
    "from datetime import datetime\n",
    "import time as time\n",
    "from scipy import optimize\n",
    "import pickle\n",
    "%matplotlib inline\n",
    "\n",
    "G = nx.grid_graph(dim=[3,3,3])\n",
    "G = nx.convert_node_labels_to_integers(G)\n",
    "\n",
    "num_trials, n = 1000, 1\n",
    "Ts_rw = f.random_walk_covertime(G,n,num_trials=num_trials)\n",
    "Ts_ue = f.urban_explorer_covertime(G,n,num_trials=num_trials)\n",
    "plt.hist(Ts_rw, alpha=0.75);plt.hist(Ts_ue,alpha=0.75);plt.legend(['Random walk','Urban explorer'])\n",
    "\n",
    "np.savetxt('data/covertimes_3dlattice_urban_explorer.txt',Ts_ue)\n",
    "np.savetxt('data/covertimes_3dlattice_random_walker.txt',Ts_rw)"
   ]
  },
  {
   "cell_type": "markdown",
   "metadata": {},
   "source": [
    "Very similar here"
   ]
  },
  {
   "cell_type": "markdown",
   "metadata": {},
   "source": [
    "## Scaling with N"
   ]
  },
  {
   "cell_type": "code",
   "execution_count": 12,
   "metadata": {},
   "outputs": [
    {
     "name": "stderr",
     "output_type": "stream",
     "text": [
      "/home/kokeeffe/anaconda2/lib/python2.7/site-packages/ipykernel_launcher.py:10: RuntimeWarning: invalid value encountered in double_scalars\n",
      "  # Remove the CWD from sys.path while we load stuff.\n"
     ]
    },
    {
     "name": "stdout",
     "output_type": "stream",
     "text": [
      "finished N = 1\n",
      "finished N = 2\n",
      "finished N = 3\n",
      "finished N = 4\n",
      "finished N = 5\n"
     ]
    },
    {
     "data": {
      "text/plain": [
       "<matplotlib.collections.LineCollection at 0x7fdc62b12790>"
      ]
     },
     "execution_count": 12,
     "metadata": {},
     "output_type": "execute_result"
    },
    {
     "data": {
      "image/png": "[encoded data removed]",
      "text/plain": [
       "<Figure size 432x288 with 1 Axes>"
      ]
     },
     "metadata": {},
     "output_type": "display_data"
    }
   ],
   "source": [
    "meanTratios = []\n",
    "Ns = range(1,6)\n",
    "m = 1\n",
    "for N in Ns:\n",
    "    num_trials = 500\n",
    "    G = nx.grid_graph(dim=[N,N,N])\n",
    "    G = nx.convert_node_labels_to_integers(G)\n",
    "    Ts_rw = f.random_walk_covertime(G,m,num_trials=num_trials)\n",
    "    Ts_ue = f.urban_explorer_covertime(G,m,num_trials=num_trials)\n",
    "    meanTratios.append(np.mean(Ts_ue)/np.mean(Ts_rw))\n",
    "    print 'finished N = ' + str(N)\n",
    "plt.plot(Ns,meanTratios,'ko-')\n",
    "plt.xlabel('N',fontsize=18)\n",
    "#plt.ylabel(' $ \\langle T \\rangle_{UE} / \\langle T \\rangle_{RW} $ ')\n",
    "plt.hlines(1,0,max(Ns),linestyles='dashed')"
   ]
  },
  {
   "cell_type": "code",
   "execution_count": 15,
   "metadata": {
    "collapsed": true
   },
   "outputs": [],
   "source": [
    "np.savetxt('data/mean_covertime_ratio_3dlattice.txt',meanTratios)\n",
    "np.savetxt('data/mean_covertime_ratio_3dlattice_Ns.txt',Ns)"
   ]
  },
  {
   "cell_type": "markdown",
   "metadata": {},
   "source": [
    "Interesting: the random walk wins for larger graph sizes. "
   ]
  },
  {
   "cell_type": "markdown",
   "metadata": {},
   "source": [
    "### Startionary densities"
   ]
  },
  {
   "cell_type": "code",
   "execution_count": 56,
   "metadata": {},
   "outputs": [
    {
     "data": {
      "text/plain": [
       "(array([ 4.,  0., 12.,  0.,  0.,  0.,  4.,  0.,  4.,  1.]),\n",
       " array([0.00384014, 0.01284796, 0.02185578, 0.03086361, 0.03987143,\n",
       "        0.04887925, 0.05788707, 0.0668949 , 0.07590272, 0.08491054,\n",
       "        0.09391837]),\n",
       " <a list of 10 Patch objects>)"
      ]
     },
     "execution_count": 56,
     "metadata": {},
     "output_type": "execute_result"
    },
    {
     "data": {
      "image/png": "[encoded data removed]",
      "text/plain": [
       "<Figure size 432x288 with 1 Axes>"
      ]
     },
     "metadata": {},
     "output_type": "display_data"
    }
   ],
   "source": [
    "def compute_and_save_all_shortest_paths(G):\n",
    "    \n",
    "    \"\"\"\n",
    "    Input: nx.graph, G\n",
    "    Output: list, paths, where paths[start][end] = [ path1, path2 ]\n",
    "                where path1 = [node1,nod2] is one of (possibly more than one) shortest paths from \n",
    "                start to end\n",
    "    \"\"\"\n",
    "    \n",
    "    nodes = [node for node in G.nodes()]\n",
    "    n = len(nodes)\n",
    "    \n",
    "    paths = list(np.zeros((n,n)))\n",
    "    paths = [list(i) for i in paths]\n",
    "\n",
    "    for start in nodes:\n",
    "        for end in nodes:\n",
    "            path = nx.all_shortest_paths(G,start,end)\n",
    "            path = [p for p in path]\n",
    "            paths[start][end] = path\n",
    "    return paths\n",
    "\n",
    "\n",
    "#Make graph\n",
    "num_nodes_per_side = 5\n",
    "G = nx.grid_2d_graph(num_nodes_per_side,num_nodes_per_side)\n",
    "G = nx.convert_node_labels_to_integers(G)\n",
    "\n",
    "#Run U.E.\n",
    "N = G.number_of_nodes()\n",
    "counts = np.zeros(N)\n",
    "T = 10**5\n",
    "counts = f.urban_explorer_stationary_densities(G,counts,T)\n",
    "counts = counts / sum(counts)\n",
    "\n",
    "#Find betweenness\n",
    "bs = nx.betweenness_centrality(G).values()\n",
    "bs = np.array(bs) / sum(bs)\n",
    "\n",
    "plt.hist(counts,alpha=0.5)\n",
    "plt.hist(bs,alpha=0.5)"
   ]
  },
  {
   "cell_type": "code",
   "execution_count": 57,
   "metadata": {},
   "outputs": [
    {
     "data": {
      "text/plain": [
       "[<matplotlib.lines.Line2D at 0x7ff9a740dc90>]"
      ]
     },
     "execution_count": 57,
     "metadata": {},
     "output_type": "execute_result"
    },
    {
     "data": {
      "image/png": "[encoded data removed]",
      "text/plain": [
       "<Figure size 432x288 with 1 Axes>"
      ]
     },
     "metadata": {},
     "output_type": "display_data"
    }
   ],
   "source": [
    "plt.plot(bs,counts,'.')"
   ]
  },
  {
   "cell_type": "markdown",
   "metadata": {},
   "source": [
    "### Betweeness"
   ]
  },
  {
   "cell_type": "code",
   "execution_count": 6,
   "metadata": {},
   "outputs": [
    {
     "name": "stdout",
     "output_type": "stream",
     "text": [
      "Too chaotic\n"
     ]
    },
    {
     "data": {
      "text/plain": [
       "4"
      ]
     },
     "execution_count": 6,
     "metadata": {},
     "output_type": "execute_result"
    }
   ],
   "source": [
    "q = [2,5,1,3,4]\n",
    "n = len(q)\n",
    "swaps = 0\n",
    "for i in range(n):\n",
    "    if not q[i] <= i+3:\n",
    "        print 'Too chaotic'\n",
    "    for j in range(i+1,n):\n",
    "        if q[i] > q[j]:\n",
    "            swaps += 1\n",
    "swaps   "
   ]
  },
  {
   "cell_type": "code",
   "execution_count": 26,
   "metadata": {},
   "outputs": [
    {
     "data": {
      "text/plain": [
       "3"
      ]
     },
     "execution_count": 26,
     "metadata": {},
     "output_type": "execute_result"
    }
   ],
   "source": [
    "q = [2,4,5,1,3]\n",
    "\n",
    "def find_cycles(q):\n",
    "    \n",
    "    cycles = []\n",
    "    for index,num in enumerate(q):\n",
    "\n",
    "        #Check if number already in cycle \n",
    "        check = False\n",
    "        for cycle in cycles:\n",
    "            if num in cycle:\n",
    "                check = True\n",
    "                \n",
    "        if check == True:\n",
    "            pass\n",
    "        else:  \n",
    "            cycle = [num]\n",
    "            cond = False\n",
    "            while cond == False:\n",
    "                new_index = num-1\n",
    "                new_num = q[new_index]\n",
    "                if new_num == cycle[0]:  #is the cycle has been completed\n",
    "                    break\n",
    "                cycle.append(new_num)\n",
    "                num = new_num\n",
    "            cycles.append(cycle)\n",
    "    return cycles\n",
    "\n",
    "\n",
    "def min_swaps(q):\n",
    "    \n",
    "    #Find cycles\n",
    "    cycles = find_cycles(q)\n",
    "    \n",
    "    #Num swaps = sum_{cycles} size_of_cycle - 1\n",
    "    swaps = 0\n",
    "    for c in cycles:\n",
    "        swaps += len(c) - 1\n",
    "    \n",
    "    return swaps\n",
    "\n",
    "min_swaps(q)"
   ]
  },
  {
   "cell_type": "code",
   "execution_count": 30,
   "metadata": {},
   "outputs": [
    {
     "data": {
      "text/plain": [
       "3"
      ]
     },
     "execution_count": 30,
     "metadata": {},
     "output_type": "execute_result"
    }
   ],
   "source": [
    "def minimumSwaps(arr):\n",
    "    cycles = find_cycles(arr)\n",
    "    swaps = 0\n",
    "    for cycle in cycles:\n",
    "        swaps += len(cycle) - 1\n",
    "    return swaps\n",
    "\n",
    "\n",
    "def find_cycles(arr):\n",
    "    cycles = []\n",
    "    for index, num in enumerate(arr):\n",
    "        check = check_in_num_in_cycle(cycles,num)\n",
    "        if check == True:\n",
    "            pass\n",
    "        else:\n",
    "            cycle = [num]\n",
    "            while True:\n",
    "                new_index = num-1\n",
    "                new_num = arr[new_index]\n",
    "\n",
    "                #if the new_num terminates\n",
    "                if new_num == cycle[0]:\n",
    "                    break\n",
    "                #else append and repeat\n",
    "                cycle.append(new_num)\n",
    "                num = new_num\n",
    "            cycles.append(cycle)\n",
    "    return cycles\n",
    "\n",
    "\n",
    "def check_in_num_in_cycle(cycles,num):\n",
    "    check = False\n",
    "    for cycle in cycles:\n",
    "        if num in cycle:\n",
    "            check = True\n",
    "            break\n",
    "    return check\n",
    "\n",
    "arr = [2,4,5,1,3]\n",
    "minimumSwaps(arr)"
   ]
  },
  {
   "cell_type": "code",
   "execution_count": 33,
   "metadata": {},
   "outputs": [
    {
     "data": {
      "text/plain": [
       "4"
      ]
     },
     "execution_count": 33,
     "metadata": {},
     "output_type": "execute_result"
    }
   ],
   "source": [
    "2+2"
   ]
  },
  {
   "cell_type": "code",
   "execution_count": null,
   "metadata": {
    "collapsed": true
   },
   "outputs": [],
   "source": []
  }
 ],
 "metadata": {
  "kernelspec": {
   "display_name": "Python 2",
   "language": "python",
   "name": "python2"
  },
  "language_info": {
   "codemirror_mode": {
    "name": "ipython",
    "version": 2
   },
   "file_extension": ".py",
   "mimetype": "text/x-python",
   "name": "python",
   "nbconvert_exporter": "python",
   "pygments_lexer": "ipython2",
   "version": "2.7.14"
  }
 },
 "nbformat": 4,
 "nbformat_minor": 2
}
