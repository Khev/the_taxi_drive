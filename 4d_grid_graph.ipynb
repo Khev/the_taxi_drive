{
 "cells": [
  {
   "cell_type": "markdown",
   "metadata": {},
   "source": [
    "# Introduction\n",
    "\n",
    "Here I want to compute the n-cover times. For my taxi-trip process, as well as the random walk. For N = 1, i expect the random walk to win. I'm hoping that for n > 2, the taxi-trip will do better."
   ]
  },
  {
   "cell_type": "code",
   "execution_count": 2,
   "metadata": {},
   "outputs": [
    {
     "data": {
      "text/plain": [
       "<matplotlib.legend.Legend at 0x7f17a864df10>"
      ]
     },
     "execution_count": 2,
     "metadata": {},
     "output_type": "execute_result"
    },
    {
     "data": {
      "image/png": "[encoded data removed]",
      "text/plain": [
       "<Figure size 432x288 with 1 Axes>"
      ]
     },
     "metadata": {},
     "output_type": "display_data"
    }
   ],
   "source": [
    "import numpy as np\n",
    "import matplotlib.pyplot as plt\n",
    "import funcs as f\n",
    "import osmnx as ox\n",
    "import networkx as nx\n",
    "from multiprocessing import Pool\n",
    "from datetime import datetime\n",
    "import time as time\n",
    "from scipy import optimize\n",
    "import pickle\n",
    "%matplotlib inline\n",
    "\n",
    "G = nx.grid_graph(dim=[2,2,2,2])\n",
    "G = nx.convert_node_labels_to_integers(G)\n",
    "\n",
    "num_trials, n = 500, 1\n",
    "Ts_rw = f.random_walk_covertime(G,n,num_trials=num_trials)\n",
    "Ts_rd = f.urban_explorer_covertime(G,n,num_trials=num_trials)\n",
    "plt.hist(Ts_rw, alpha=0.75);plt.hist(Ts_rd,alpha=0.75);plt.legend(['Random walk','Urban explorer'])"
   ]
  },
  {
   "cell_type": "markdown",
   "metadata": {},
   "source": [
    "Very similar here"
   ]
  },
  {
   "cell_type": "markdown",
   "metadata": {},
   "source": [
    "## Scaling with N"
   ]
  },
  {
   "cell_type": "code",
   "execution_count": 3,
   "metadata": {},
   "outputs": [
    {
     "name": "stderr",
     "output_type": "stream",
     "text": [
      "/home/kokeeffe/anaconda2/lib/python2.7/site-packages/ipykernel_launcher.py:10: RuntimeWarning: invalid value encountered in double_scalars\n",
      "  # Remove the CWD from sys.path while we load stuff.\n"
     ]
    },
    {
     "name": "stdout",
     "output_type": "stream",
     "text": [
      "finished N = 1\n",
      "finished N = 2\n",
      "finished N = 3\n",
      "finished N = 4\n"
     ]
    },
    {
     "data": {
      "text/plain": [
       "<matplotlib.collections.LineCollection at 0x7f17a86d86d0>"
      ]
     },
     "execution_count": 3,
     "metadata": {},
     "output_type": "execute_result"
    },
    {
     "data": {
      "image/png": "[encoded data removed]",
      "text/plain": [
       "<Figure size 432x288 with 1 Axes>"
      ]
     },
     "metadata": {},
     "output_type": "display_data"
    }
   ],
   "source": [
    "meanTratios = []\n",
    "Ns = range(1,5)\n",
    "m = 1\n",
    "for N in Ns:\n",
    "    num_trials = 500\n",
    "    G = nx.grid_graph(dim=[N,N,N,N])\n",
    "    G = nx.convert_node_labels_to_integers(G)\n",
    "    Ts_rw = f.random_walk_covertime(G,m,num_trials=num_trials)\n",
    "    Ts_ue = f.urban_explorer_covertime(G,m,num_trials=num_trials)\n",
    "    meanTratios.append(np.mean(Ts_ue)/np.mean(Ts_rw))\n",
    "    print 'finished N = ' + str(N)\n",
    "plt.plot(Ns,meanTratios,'ko-')\n",
    "plt.xlabel('N',fontsize=18)\n",
    "#plt.ylabel(' $ \\langle T \\rangle_{UE} / \\langle T \\rangle_{RW} $ ')\n",
    "plt.hlines(1,0,max(Ns),linestyles='dashed')"
   ]
  },
  {
   "cell_type": "markdown",
   "metadata": {},
   "source": [
    "Interesting: the random walk wins for larger graph sizes. "
   ]
  },
  {
   "cell_type": "markdown",
   "metadata": {},
   "source": [
    "### Startionary densities"
   ]
  },
  {
   "cell_type": "code",
   "execution_count": 56,
   "metadata": {},
   "outputs": [
    {
     "data": {
      "text/plain": [
       "(array([ 4.,  0., 12.,  0.,  0.,  0.,  4.,  0.,  4.,  1.]),\n",
       " array([0.00384014, 0.01284796, 0.02185578, 0.03086361, 0.03987143,\n",
       "        0.04887925, 0.05788707, 0.0668949 , 0.07590272, 0.08491054,\n",
       "        0.09391837]),\n",
       " <a list of 10 Patch objects>)"
      ]
     },
     "execution_count": 56,
     "metadata": {},
     "output_type": "execute_result"
    },
    {
     "data": {
      "image/png": "[encoded data removed]",
      "text/plain": [
       "<Figure size 432x288 with 1 Axes>"
      ]
     },
     "metadata": {},
     "output_type": "display_data"
    }
   ],
   "source": [
    "def compute_and_save_all_shortest_paths(G):\n",
    "    \n",
    "    \"\"\"\n",
    "    Input: nx.graph, G\n",
    "    Output: list, paths, where paths[start][end] = [ path1, path2 ]\n",
    "                where path1 = [node1,nod2] is one of (possibly more than one) shortest paths from \n",
    "                start to end\n",
    "    \"\"\"\n",
    "    \n",
    "    nodes = [node for node in G.nodes()]\n",
    "    n = len(nodes)\n",
    "    \n",
    "    paths = list(np.zeros((n,n)))\n",
    "    paths = [list(i) for i in paths]\n",
    "\n",
    "    for start in nodes:\n",
    "        for end in nodes:\n",
    "            path = nx.all_shortest_paths(G,start,end)\n",
    "            path = [p for p in path]\n",
    "            paths[start][end] = path\n",
    "    return paths\n",
    "\n",
    "\n",
    "#Make graph\n",
    "num_nodes_per_side = 5\n",
    "G = nx.grid_2d_graph(num_nodes_per_side,num_nodes_per_side)\n",
    "G = nx.convert_node_labels_to_integers(G)\n",
    "\n",
    "#Run U.E.\n",
    "N = G.number_of_nodes()\n",
    "counts = np.zeros(N)\n",
    "T = 10**5\n",
    "counts = f.urban_explorer_stationary_densities(G,counts,T)\n",
    "counts = counts / sum(counts)\n",
    "\n",
    "#Find betweenness\n",
    "bs = nx.betweenness_centrality(G).values()\n",
    "bs = np.array(bs) / sum(bs)\n",
    "\n",
    "plt.hist(counts,alpha=0.5)\n",
    "plt.hist(bs,alpha=0.5)"
   ]
  },
  {
   "cell_type": "code",
   "execution_count": 57,
   "metadata": {},
   "outputs": [
    {
     "data": {
      "text/plain": [
       "[<matplotlib.lines.Line2D at 0x7ff9a740dc90>]"
      ]
     },
     "execution_count": 57,
     "metadata": {},
     "output_type": "execute_result"
    },
    {
     "data": {
      "image/png": "[encoded data removed]",
      "text/plain": [
       "<Figure size 432x288 with 1 Axes>"
      ]
     },
     "metadata": {},
     "output_type": "display_data"
    }
   ],
   "source": [
    "plt.plot(bs,counts,'.')"
   ]
  },
  {
   "cell_type": "markdown",
   "metadata": {},
   "source": [
    "Ok, so the stationary densities are the betweeness."
   ]
  }
 ],
 "metadata": {
  "kernelspec": {
   "display_name": "Python 2",
   "language": "python",
   "name": "python2"
  },
  "language_info": {
   "codemirror_mode": {
    "name": "ipython",
    "version": 2
   },
   "file_extension": ".py",
   "mimetype": "text/x-python",
   "name": "python",
   "nbconvert_exporter": "python",
   "pygments_lexer": "ipython2",
   "version": "2.7.14"
  }
 },
 "nbformat": 4,
 "nbformat_minor": 2
}
